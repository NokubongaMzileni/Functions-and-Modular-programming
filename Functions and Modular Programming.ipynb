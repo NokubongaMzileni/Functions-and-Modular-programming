{
 "cells": [
  {
   "cell_type": "code",
   "execution_count": null,
   "id": "4b205bac",
   "metadata": {},
   "outputs": [
    {
     "ename": "ModuleNotFoundError",
     "evalue": "No module named 'matplotlib'",
     "output_type": "error",
     "traceback": [
      "\u001b[31m---------------------------------------------------------------------------\u001b[39m",
      "\u001b[31mModuleNotFoundError\u001b[39m                       Traceback (most recent call last)",
      "\u001b[36mCell\u001b[39m\u001b[36m \u001b[39m\u001b[32mIn[1]\u001b[39m\u001b[32m, line 2\u001b[39m\n\u001b[32m      1\u001b[39m \u001b[38;5;66;03m# Import required library for visualization\u001b[39;00m\n\u001b[32m----> \u001b[39m\u001b[32m2\u001b[39m \u001b[38;5;28;01mimport\u001b[39;00m\u001b[38;5;250m \u001b[39m\u001b[34;01mmatplotlib\u001b[39;00m\u001b[34;01m.\u001b[39;00m\u001b[34;01mpyplot\u001b[39;00m\u001b[38;5;250m \u001b[39m\u001b[38;5;28;01mas\u001b[39;00m\u001b[38;5;250m \u001b[39m\u001b[34;01mplt\u001b[39;00m\n\u001b[32m      4\u001b[39m \u001b[38;5;66;03m# Function 1: Calculate average age\u001b[39;00m\n\u001b[32m      5\u001b[39m \u001b[38;5;28;01mdef\u001b[39;00m\u001b[38;5;250m \u001b[39m\u001b[34mcalculate_average_age\u001b[39m(age_list):\n",
      "\u001b[31mModuleNotFoundError\u001b[39m: No module named 'matplotlib'"
     ]
    }
   ],
   "source": [
    "# Import required library for visualization\n",
    "import matplotlib.pyplot as plt\n",
    "\n",
    "# Function 1: Calculate average age\n",
    "def calculate_average_age(age_list):\n",
    "    if len(age_list) == 0:\n",
    "        return 0\n",
    "    return sum(age_list) / len(age_list)\n",
    "\n",
    "# Function 2: Check scholarship eligibility\n",
    "def check_eligibility(age):\n",
    "    return age >= 18\n",
    "\n",
    "# Function 3: Filter eligible ages from list\n",
    "def get_eligible_ages(age_list):\n",
    "    return [age for age in age_list if check_eligibility(age)]\n",
    "\n",
    "# Function 4: Visualize age data\n",
    "def plot_age_eligibility(ages):\n",
    "    labels = [f\"Age {age}\" for age in ages]\n",
    "    eligibility = [1 if check_eligibility(age) else 0 for age in ages]\n",
    "\n",
    "    colors = ['green' if e == 1 else 'red' for e in eligibility]\n",
    "    statuses = ['Eligible' if e == 1 else 'Not Eligible' for e in eligibility]\n",
    "\n",
    "    plt.figure(figsize=(10, 6))\n",
    "    bars = plt.bar(labels, eligibility, color=colors)\n",
    "\n",
    "    plt.title(\"Scholarship Eligibility by Age\")\n",
    "    plt.ylabel(\"Eligibility (1 = Yes, 0 = No)\")\n",
    "    plt.ylim(0, 1.2)\n",
    "\n",
    "    # Add text labels on top of bars\n",
    "    for bar, status in zip(bars, statuses):\n",
    "        yval = bar.get_height()\n",
    "        plt.text(bar.get_x() + bar.get_width() / 2.0, yval + 0.05, status, ha='center')\n",
    "\n",
    "    plt.xticks(rotation=45)\n",
    "    plt.grid(axis='y', linestyle='--', alpha=0.5)\n",
    "    plt.tight_layout()\n",
    "    plt.show()\n",
    "\n",
    "# Step 1: Get ages from user input\n",
    "input_ages = input(\"Enter ages separated by commas (e.g., 17, 18, 21, 15): \")\n",
    "ages = [int(age.strip()) for age in input_ages.split(\",\")]\n",
    "\n",
    "# Step 2: Calculate average age\n",
    "average = calculate_average_age(ages)\n",
    "print(f\"\\n Average age: {average:.2f}\")\n",
    "\n",
    "# Step 3: Show who is eligible\n",
    "print(\"\\n Eligibility Results:\")\n",
    "for age in ages:\n",
    "    if check_eligibility(age):\n",
    "        print(f\"Age {age}: Eligible\")\n",
    "    else:\n",
    "        print(f\"Age {age}: Not eligible\")\n",
    "\n",
    "# Step 4: Get and print eligible ages\n",
    "eligible = get_eligible_ages(ages)\n",
    "print(f\"\\n Eligible ages: {eligible}\")\n",
    "print(f\"Total eligible: {len(eligible)}\")\n",
    "\n",
    "# Step 5: Visualize the results\n",
    "plot_age_eligibility(ages)\n"
   ]
  }
 ],
 "metadata": {
  "kernelspec": {
   "display_name": "Python 3",
   "language": "python",
   "name": "python3"
  },
  "language_info": {
   "codemirror_mode": {
    "name": "ipython",
    "version": 3
   },
   "file_extension": ".py",
   "mimetype": "text/x-python",
   "name": "python",
   "nbconvert_exporter": "python",
   "pygments_lexer": "ipython3",
   "version": "3.11.9"
  }
 },
 "nbformat": 4,
 "nbformat_minor": 5
}
